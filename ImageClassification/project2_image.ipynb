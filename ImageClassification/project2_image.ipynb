{
 "cells": [
  {
   "cell_type": "markdown",
   "metadata": {
    "collapsed": true
   },
   "source": [
    "# Image Classification\n",
    "In this project, you'll classify images from the [CIFAR-10 dataset](https://www.cs.toronto.edu/~kriz/cifar.html).  The dataset consists of airplanes, dogs, cats, and other objects. You'll preprocess the images, then train a convolutional neural network on all the samples. The images need to be normalized and the labels need to be one-hot encoded.  You'll get to apply what you learned and build a convolutional, max pooling, dropout, and fully connected layers.  At the end, you'll get to see your neural network's predictions on the sample images.\n",
    "## Get the Data\n",
    "Run the following cell to download the [CIFAR-10 dataset for python](https://www.cs.toronto.edu/~kriz/cifar-10-python.tar.gz)."
   ]
  },
  {
   "cell_type": "code",
   "execution_count": 1,
   "metadata": {},
   "outputs": [
    {
     "name": "stdout",
     "output_type": "stream",
     "text": [
      "All files found!\n"
     ]
    }
   ],
   "source": [
    "\"\"\"\n",
    "DON'T MODIFY ANYTHING IN THIS CELL THAT IS BELOW THIS LINE\n",
    "\"\"\"\n",
    "from urllib.request import urlretrieve\n",
    "from os.path import isfile, isdir\n",
    "from tqdm import tqdm\n",
    "import problem_unittests as tests\n",
    "import tarfile\n",
    "\n",
    "cifar10_dataset_folder_path = 'cifar-10-batches-py'\n",
    "\n",
    "# Use Floyd's cifar-10 dataset if present\n",
    "floyd_cifar10_location = '/input/cifar-10/python.tar.gz'\n",
    "if isfile(floyd_cifar10_location):\n",
    "    tar_gz_path = floyd_cifar10_location\n",
    "else:\n",
    "    tar_gz_path = 'cifar-10-python.tar.gz'\n",
    "\n",
    "class DLProgress(tqdm):\n",
    "    last_block = 0\n",
    "\n",
    "    def hook(self, block_num=1, block_size=1, total_size=None):\n",
    "        self.total = total_size\n",
    "        self.update((block_num - self.last_block) * block_size)\n",
    "        self.last_block = block_num\n",
    "\n",
    "if not isfile(tar_gz_path):\n",
    "    with DLProgress(unit='B', unit_scale=True, miniters=1, desc='CIFAR-10 Dataset') as pbar:\n",
    "        urlretrieve(\n",
    "            'https://www.cs.toronto.edu/~kriz/cifar-10-python.tar.gz',\n",
    "            tar_gz_path,\n",
    "            pbar.hook)\n",
    "\n",
    "if not isdir(cifar10_dataset_folder_path):\n",
    "    with tarfile.open(tar_gz_path) as tar:\n",
    "        tar.extractall()\n",
    "        tar.close()\n",
    "\n",
    "\n",
    "tests.test_folder_path(cifar10_dataset_folder_path)"
   ]
  },
  {
   "cell_type": "markdown",
   "metadata": {},
   "source": [
    "## Explore the Data\n",
    "The dataset is broken into batches to prevent your machine from running out of memory.  The CIFAR-10 dataset consists of 5 batches, named `data_batch_1`, `data_batch_2`, etc.. Each batch contains the labels and images that are one of the following:\n",
    "* airplane\n",
    "* automobile\n",
    "* bird\n",
    "* cat\n",
    "* deer\n",
    "* dog\n",
    "* frog\n",
    "* horse\n",
    "* ship\n",
    "* truck\n",
    "\n",
    "Understanding a dataset is part of making predictions on the data.  Play around with the code cell below by changing the `batch_id` and `sample_id`. The `batch_id` is the id for a batch (1-5). The `sample_id` is the id for a image and label pair in the batch.\n",
    "\n",
    "Ask yourself \"What are all possible labels?\", \"What is the range of values for the image data?\", \"Are the labels in order or random?\".  Answers to questions like these will help you preprocess the data and end up with better predictions."
   ]
  },
  {
   "cell_type": "code",
   "execution_count": 2,
   "metadata": {},
   "outputs": [
    {
     "name": "stdout",
     "output_type": "stream",
     "text": [
      "\n",
      "Stats of batch 1:\n",
      "Samples: 10000\n",
      "Label Counts: {0: 1005, 1: 974, 2: 1032, 3: 1016, 4: 999, 5: 937, 6: 1030, 7: 1001, 8: 1025, 9: 981}\n",
      "First 20 Labels: [6, 9, 9, 4, 1, 1, 2, 7, 8, 3, 4, 7, 7, 2, 9, 9, 9, 3, 2, 6]\n",
      "\n",
      "Example of Image 5:\n",
      "Image - Min Value: 0 Max Value: 252\n",
      "Image - Shape: (32, 32, 3)\n",
      "Label - Label Id: 1 Name: automobile\n"
     ]
    },
    {
     "data": {
      "image/png": "[encoded data removed]",
      "text/plain": [
       "<matplotlib.figure.Figure at 0x7fdc2d8a2780>"
      ]
     },
     "metadata": {
      "image/png": {
       "height": 250,
       "width": 253
      }
     },
     "output_type": "display_data"
    }
   ],
   "source": [
    "%matplotlib inline\n",
    "%config InlineBackend.figure_format = 'retina'\n",
    "\n",
    "import helper\n",
    "import numpy as np\n",
    "\n",
    "# Explore the dataset\n",
    "batch_id = 1\n",
    "sample_id = 5\n",
    "helper.display_stats(cifar10_dataset_folder_path, batch_id, sample_id)"
   ]
  },
  {
   "cell_type": "markdown",
   "metadata": {},
   "source": [
    "## Implement Preprocess Functions\n",
    "### Normalize\n",
    "In the cell below, implement the `normalize` function to take in image data, `x`, and return it as a normalized Numpy array. The values should be in the range of 0 to 1, inclusive.  The return object should be the same shape as `x`."
   ]
  },
  {
   "cell_type": "code",
   "execution_count": 3,
   "metadata": {},
   "outputs": [
    {
     "name": "stdout",
     "output_type": "stream",
     "text": [
      "Tests Passed\n"
     ]
    }
   ],
   "source": [
    "\n",
    "def normalize(x):\n",
    "    \"\"\"\n",
    "    Normalize a list of sample image data in the range of 0 to 1\n",
    "    : x: List of image data.  The image shape is (32, 32, 3)\n",
    "    : return: Numpy array of normalize data\n",
    "    \"\"\"\n",
    "    # TODO: Implement Function\n",
    "    # a + (x -min * (b -a)) / (max -min)\n",
    "    a =0\n",
    "    b =1\n",
    "    return a + np.divide((( x - (np.min(x) * (b-a)))), (np.max(x) - np.min(x)))\n",
    "\n",
    "\n",
    "\"\"\"\n",
    "DON'T MODIFY ANYTHING IN THIS CELL THAT IS BELOW THIS LINE\n",
    "\"\"\"\n",
    "tests.test_normalize(normalize)"
   ]
  },
  {
   "cell_type": "markdown",
   "metadata": {},
   "source": [
    "### One-hot encode\n",
    "Just like the previous code cell, you'll be implementing a function for preprocessing.  This time, you'll implement the `one_hot_encode` function. The input, `x`, are a list of labels.  Implement the function to return the list of labels as One-Hot encoded Numpy array.  The possible values for labels are 0 to 9. The one-hot encoding function should return the same encoding for each value between each call to `one_hot_encode`.  Make sure to save the map of encodings outside the function.\n",
    "\n",
    "Hint: Don't reinvent the wheel."
   ]
  },
  {
   "cell_type": "code",
   "execution_count": 4,
   "metadata": {},
   "outputs": [
    {
     "name": "stdout",
     "output_type": "stream",
     "text": [
      "Tests Passed\n"
     ]
    }
   ],
   "source": [
    "\n",
    "def one_hot_encode(x):\n",
    "    \n",
    "    \"\"\"\n",
    "    One hot encode a list of sample labels. Return a one-hot encoded vector for each label.\n",
    "    : x: List of sample Labels\n",
    "    : return: Numpy array of one-hot encoded labels\n",
    "    \"\"\"\n",
    "    # TODO: Implement Function\n",
    "    from sklearn.preprocessing import OneHotEncoder\n",
    "    enc = OneHotEncoder(n_values=10)    \n",
    "    one_hot_encoded_labels = enc.fit_transform(np.array(x).reshape(-1, 1)).toarray()\n",
    "    return one_hot_encoded_labels\n",
    "\n",
    "\"\"\"\n",
    "DON'T MODIFY ANYTHING IN THIS CELL THAT IS BELOW THIS LINE\n",
    "\"\"\"\n",
    "tests.test_one_hot_encode(one_hot_encode)"
   ]
  },
  {
   "cell_type": "markdown",
   "metadata": {},
   "source": [
    "### Randomize Data\n",
    "As you saw from exploring the data above, the order of the samples are randomized.  It doesn't hurt to randomize it again, but you don't need to for this dataset."
   ]
  },
  {
   "cell_type": "markdown",
   "metadata": {},
   "source": [
    "## Preprocess all the data and save it\n",
    "Running the code cell below will preprocess all the CIFAR-10 data and save it to file. The code below also uses 10% of the training data for validation."
   ]
  },
  {
   "cell_type": "code",
   "execution_count": 5,
   "metadata": {},
   "outputs": [],
   "source": [
    "\"\"\"\n",
    "DON'T MODIFY ANYTHING IN THIS CELL\n",
    "\"\"\"\n",
    "# Preprocess Training, Validation, and Testing Data\n",
    "helper.preprocess_and_save_data(cifar10_dataset_folder_path, normalize, one_hot_encode)"
   ]
  },
  {
   "cell_type": "markdown",
   "metadata": {},
   "source": [
    "# Check Point\n",
    "This is your first checkpoint.  If you ever decide to come back to this notebook or have to restart the notebook, you can start from here.  The preprocessed data has been saved to disk."
   ]
  },
  {
   "cell_type": "code",
   "execution_count": 6,
   "metadata": {
    "collapsed": true
   },
   "outputs": [],
   "source": [
    "\"\"\"\n",
    "DON'T MODIFY ANYTHING IN THIS CELL\n",
    "\"\"\"\n",
    "import pickle\n",
    "import problem_unittests as tests\n",
    "import helper\n",
    "\n",
    "# Load the Preprocessed Validation data\n",
    "valid_features, valid_labels = pickle.load(open('preprocess_validation.p', mode='rb'))"
   ]
  },
  {
   "cell_type": "markdown",
   "metadata": {},
   "source": [
    "## Build the network\n",
    "For the neural network, you'll build each layer into a function.  Most of the code you've seen has been outside of functions. To test your code more thoroughly, we require that you put each layer in a function.  This allows us to give you better feedback and test for simple mistakes using our unittests before you submit your project.\n",
    "\n",
    ">**Note:** If you're finding it hard to dedicate enough time for this course each week, we've provided a small shortcut to this part of the project. In the next couple of problems, you'll have the option to use classes from the [TensorFlow Layers](https://www.tensorflow.org/api_docs/python/tf/layers) or [TensorFlow Layers (contrib)](https://www.tensorflow.org/api_guides/python/contrib.layers) packages to build each layer, except the layers you build in the \"Convolutional and Max Pooling Layer\" section.  TF Layers is similar to Keras's and TFLearn's abstraction to layers, so it's easy to pickup.\n",
    "\n",
    ">However, if you would like to get the most out of this course, try to solve all the problems _without_ using anything from the TF Layers packages. You **can** still use classes from other packages that happen to have the same name as ones you find in TF Layers! For example, instead of using the TF Layers version of the `conv2d` class, [tf.layers.conv2d](https://www.tensorflow.org/api_docs/python/tf/layers/conv2d), you would want to use the TF Neural Network version of `conv2d`, [tf.nn.conv2d](https://www.tensorflow.org/api_docs/python/tf/nn/conv2d). \n",
    "\n",
    "Let's begin!\n",
    "\n",
    "### Input\n",
    "The neural network needs to read the image data, one-hot encoded labels, and dropout keep probability. Implement the following functions\n",
    "* Implement `neural_net_image_input`\n",
    " * Return a [TF Placeholder](https://www.tensorflow.org/api_docs/python/tf/placeholder)\n",
    " * Set the shape using `image_shape` with batch size set to `None`.\n",
    " * Name the TensorFlow placeholder \"x\" using the TensorFlow `name` parameter in the [TF Placeholder](https://www.tensorflow.org/api_docs/python/tf/placeholder).\n",
    "* Implement `neural_net_label_input`\n",
    " * Return a [TF Placeholder](https://www.tensorflow.org/api_docs/python/tf/placeholder)\n",
    " * Set the shape using `n_classes` with batch size set to `None`.\n",
    " * Name the TensorFlow placeholder \"y\" using the TensorFlow `name` parameter in the [TF Placeholder](https://www.tensorflow.org/api_docs/python/tf/placeholder).\n",
    "* Implement `neural_net_keep_prob_input`\n",
    " * Return a [TF Placeholder](https://www.tensorflow.org/api_docs/python/tf/placeholder) for dropout keep probability.\n",
    " * Name the TensorFlow placeholder \"keep_prob\" using the TensorFlow `name` parameter in the [TF Placeholder](https://www.tensorflow.org/api_docs/python/tf/placeholder).\n",
    "\n",
    "These names will be used at the end of the project to load your saved model.\n",
    "\n",
    "Note: `None` for shapes in TensorFlow allow for a dynamic size."
   ]
  },
  {
   "cell_type": "code",
   "execution_count": 7,
   "metadata": {},
   "outputs": [
    {
     "name": "stdout",
     "output_type": "stream",
     "text": [
      "Image Input Tests Passed.\n",
      "Label Input Tests Passed.\n",
      "Keep Prob Tests Passed.\n"
     ]
    }
   ],
   "source": [
    "import tensorflow as tf\n",
    "\n",
    "def neural_net_image_input(image_shape):\n",
    "    \"\"\"\n",
    "    Return a Tensor for a bach of image input\n",
    "    : image_shape: Shape of the images\n",
    "    : return: Tensor for image input.\n",
    "    \"\"\"\n",
    "    # TODO: Implement Function\n",
    "   \n",
    "    return tf.placeholder(tf.float32, shape = [None, image_shape[0],image_shape[1],image_shape[2]], name = 'x')\n",
    "    \n",
    "\n",
    "def neural_net_label_input(n_classes):\n",
    "    \"\"\"\n",
    "    Return a Tensor for a batch of label input\n",
    "    : n_classes: Number of classes\n",
    "    : return: Tensor for label input.\n",
    "    \"\"\"\n",
    "    # TODO: Implement Function\n",
    "    output = tf.placeholder(tf.float32,shape = [None, n_classes], name ='y')\n",
    "    return output\n",
    "\n",
    "\n",
    "def neural_net_keep_prob_input():\n",
    "    \"\"\"\n",
    "    \n",
    "    Return a Tensor for keep probability\n",
    "    : return: Tensor for keep probability.\n",
    "    \"\"\"\n",
    "    # TODO: Implement Function\n",
    "    return tf.placeholder(tf.float32, name = 'keep_prob')\n",
    "\n",
    "\n",
    "\"\"\"\n",
    "DON'T MODIFY ANYTHING IN THIS CELL THAT IS BELOW THIS LINE\n",
    "\"\"\"\n",
    "tf.reset_default_graph()\n",
    "tests.test_nn_image_inputs(neural_net_image_input)\n",
    "tests.test_nn_label_inputs(neural_net_label_input)\n",
    "tests.test_nn_keep_prob_inputs(neural_net_keep_prob_input)"
   ]
  },
  {
   "cell_type": "markdown",
   "metadata": {},
   "source": [
    "### Convolution and Max Pooling Layer\n",
    "Convolution layers have a lot of success with images. For this code cell, you should implement the function `conv2d_maxpool` to apply convolution then max pooling:\n",
    "* Create the weight and bias using `conv_ksize`, `conv_num_outputs` and the shape of `x_tensor`.\n",
    "* Apply a convolution to `x_tensor` using weight and `conv_strides`.\n",
    " * We recommend you use same padding, but you're welcome to use any padding.\n",
    "* Add bias\n",
    "* Add a nonlinear activation to the convolution.\n",
    "* Apply Max Pooling using `pool_ksize` and `pool_strides`.\n",
    " * We recommend you use same padding, but you're welcome to use any padding.\n",
    "\n",
    "**Note:** You **can't** use [TensorFlow Layers](https://www.tensorflow.org/api_docs/python/tf/layers) or [TensorFlow Layers (contrib)](https://www.tensorflow.org/api_guides/python/contrib.layers) for **this** layer, but you can still use TensorFlow's [Neural Network](https://www.tensorflow.org/api_docs/python/tf/nn) package. You may still use the shortcut option for all the **other** layers."
   ]
  },
  {
   "cell_type": "code",
   "execution_count": 8,
   "metadata": {},
   "outputs": [
    {
     "name": "stdout",
     "output_type": "stream",
     "text": [
      "Tests Passed\n"
     ]
    }
   ],
   "source": [
    "def conv2d_maxpool(x_tensor, conv_num_outputs, conv_ksize, conv_strides, pool_ksize, pool_strides):\n",
    "   \n",
    "    #print(x_tensor.get_shape())\n",
    "    \"\"\"\n",
    "    Apply convolution then max pooling to x_tensor\n",
    "    :param x_tensor: TensorFlow Tensor\n",
    "    :param conv_num_outputs: Number of outputs for the convolutional layer\n",
    "    :param conv_ksize: kernal size 2-D Tuple for the convolutional layer\n",
    "    :param conv_strides: Stride 2-D Tuple for convolution\n",
    "    :param pool_ksize: kernal size 2-D Tuple for pool\n",
    "    :param pool_strides: Stride 2-D Tuple for pool\n",
    "    : return: A tensor that represents convolution and max pooling of x_tensor\n",
    "    \"\"\"\n",
    "    # TODO: Implement Function\n",
    "    W = tf.Variable(tf.truncated_normal([conv_ksize[0], conv_ksize[1], int(x_tensor.get_shape()[3]), conv_num_outputs], stddev =0.1))\n",
    "    b = tf.Variable(tf.zeros([conv_num_outputs]))\n",
    "    L= tf.nn.conv2d(x_tensor, W, strides = [1, conv_strides[0], conv_strides[1], 1], padding = 'SAME')\n",
    "    L= tf.nn.bias_add(L,b)\n",
    "    L= tf.nn.relu(L)\n",
    "    M = tf.nn.max_pool(L, ksize=[1,pool_ksize[0],pool_ksize[1],1], strides=[1,pool_strides[0],pool_strides[1],1], padding ='SAME' )\n",
    "    return M\n",
    "\n",
    "\n",
    "\"\"\"\n",
    "DON'T MODIFY ANYTHING IN THIS CELL THAT IS BELOW THIS LINE\n",
    "\"\"\"\n",
    "tests.test_con_pool(conv2d_maxpool)"
   ]
  },
  {
   "cell_type": "markdown",
   "metadata": {},
   "source": [
    "### Flatten Layer\n",
    "Implement the `flatten` function to change the dimension of `x_tensor` from a 4-D tensor to a 2-D tensor.  The output should be the shape (*Batch Size*, *Flattened Image Size*). Shortcut option: you can use classes from the [TensorFlow Layers](https://www.tensorflow.org/api_docs/python/tf/layers) or [TensorFlow Layers (contrib)](https://www.tensorflow.org/api_guides/python/contrib.layers) packages for this layer. For more of a challenge, only use other TensorFlow packages."
   ]
  },
  {
   "cell_type": "code",
   "execution_count": 9,
   "metadata": {},
   "outputs": [
    {
     "name": "stdout",
     "output_type": "stream",
     "text": [
      "Tests Passed\n"
     ]
    }
   ],
   "source": [
    "def flatten(x_tensor):\n",
    "    \"\"\"\n",
    "    Flatten x_tensor to (Batch Size, Flattened Image Size)\n",
    "    : x_tensor: A tensor of size (Batch Size, ...), where ... are the image dimensions.\n",
    "    : return: A tensor of size (Batch Size, Flattened Image Size).\n",
    "    \"\"\"\n",
    "    # TODO: Implement Function\n",
    "    flat = tf.reshape(x_tensor, [-1, int(x_tensor.get_shape()[1]) * int(x_tensor.get_shape()[2])* int(x_tensor.get_shape()[3])])\n",
    "    return flat\n",
    "\n",
    "\n",
    "\"\"\"\n",
    "DON'T MODIFY ANYTHING IN THIS CELL THAT IS BELOW THIS LINE\n",
    "\"\"\"\n",
    "tests.test_flatten(flatten)"
   ]
  },
  {
   "cell_type": "markdown",
   "metadata": {},
   "source": [
    "### Fully-Connected Layer\n",
    "Implement the `fully_conn` function to apply a fully connected layer to `x_tensor` with the shape (*Batch Size*, *num_outputs*). Shortcut option: you can use classes from the [TensorFlow Layers](https://www.tensorflow.org/api_docs/python/tf/layers) or [TensorFlow Layers (contrib)](https://www.tensorflow.org/api_guides/python/contrib.layers) packages for this layer. For more of a challenge, only use other TensorFlow packages."
   ]
  },
  {
   "cell_type": "code",
   "execution_count": 10,
   "metadata": {},
   "outputs": [
    {
     "name": "stdout",
     "output_type": "stream",
     "text": [
      "Tests Passed\n"
     ]
    }
   ],
   "source": [
    "def fully_conn(x_tensor, num_outputs):\n",
    "    \"\"\"\n",
    "    Apply a fully connected layer to x_tensor using weight and bias\n",
    "    : x_tensor: A 2-D tensor where the first dimension is batch size.\n",
    "    : num_outputs: The number of output that the new tensor should be.\n",
    "    : return: A 2-D tensor where the second dimension is num_outputs.\n",
    "    \"\"\"\n",
    "    # TODO: Implement Function\n",
    "    W = tf.Variable(tf.truncated_normal([int(x_tensor.get_shape()[1]), num_outputs], stddev=0.1))\n",
    "    bias = tf.Variable(tf.zeros(num_outputs))\n",
    "    fc1 = tf.add(tf.matmul(x_tensor, W), bias)\n",
    "    \n",
    "    return tf.nn.relu(fc1)\n",
    "\n",
    "\n",
    "\"\"\"\n",
    "DON'T MODIFY ANYTHING IN THIS CELL THAT IS BELOW THIS LINE\n",
    "\"\"\"\n",
    "tests.test_fully_conn(fully_conn)"
   ]
  },
  {
   "cell_type": "markdown",
   "metadata": {},
   "source": [
    "### Output Layer\n",
    "Implement the `output` function to apply a fully connected layer to `x_tensor` with the shape (*Batch Size*, *num_outputs*). Shortcut option: you can use classes from the [TensorFlow Layers](https://www.tensorflow.org/api_docs/python/tf/layers) or [TensorFlow Layers (contrib)](https://www.tensorflow.org/api_guides/python/contrib.layers) packages for this layer. For more of a challenge, only use other TensorFlow packages.\n",
    "\n",
    "**Note:** Activation, softmax, or cross entropy should **not** be applied to this."
   ]
  },
  {
   "cell_type": "code",
   "execution_count": 11,
   "metadata": {},
   "outputs": [
    {
     "name": "stdout",
     "output_type": "stream",
     "text": [
      "Tests Passed\n"
     ]
    }
   ],
   "source": [
    "def output(x_tensor, num_outputs):\n",
    "    \"\"\"\n",
    "    Apply a output layer to x_tensor using weight and bias\n",
    "    : x_tensor: A 2-D tensor where the first dimension is batch size.\n",
    "    : num_outputs: The number of output that the new tensor should be.\n",
    "    : return: A 2-D tensor where the second dimension is num_outputs.\n",
    "    \"\"\"\n",
    "    # TODO: Implement Function\n",
    "    W = tf.Variable(tf.truncated_normal(shape=[int(x_tensor.get_shape()[1]), num_outputs], stddev=0.1))\n",
    "    bias = tf.Variable(tf.zeros(num_outputs))\n",
    "    fc1 = tf.add(tf.matmul(x_tensor, W), bias)\n",
    "    \n",
    "    return fc1\n",
    "\n",
    "\n",
    "\"\"\"\n",
    "DON'T MODIFY ANYTHING IN THIS CELL THAT IS BELOW THIS LINE\n",
    "\"\"\"\n",
    "tests.test_output(output)"
   ]
  },
  {
   "cell_type": "markdown",
   "metadata": {},
   "source": [
    "### Create Convolutional Model\n",
    "Implement the function `conv_net` to create a convolutional neural network model. The function takes in a batch of images, `x`, and outputs logits.  Use the layers you created above to create this model:\n",
    "\n",
    "* Apply 1, 2, or 3 Convolution and Max Pool layers\n",
    "* Apply a Flatten Layer\n",
    "* Apply 1, 2, or 3 Fully Connected Layers\n",
    "* Apply an Output Layer\n",
    "* Return the output\n",
    "* Apply [TensorFlow's Dropout](https://www.tensorflow.org/api_docs/python/tf/nn/dropout) to one or more layers in the model using `keep_prob`. "
   ]
  },
  {
   "cell_type": "code",
   "execution_count": 26,
   "metadata": {},
   "outputs": [
    {
     "name": "stdout",
     "output_type": "stream",
     "text": [
      "Neural Network Built!\n"
     ]
    }
   ],
   "source": [
    "def conv_net(x, keep_prob):\n",
    "    \"\"\"\n",
    "    Create a convolutional neural network model\n",
    "    : x: Placeholder tensor that holds image data.\n",
    "    : keep_prob: Placeholder tensor that hold dropout keep probability.\n",
    "    : return: Tensor that represents logits\n",
    "    \"\"\"\n",
    "    # TODO: Apply 1, 2, or 3 Convolution and Max Pool layers\n",
    "    #    Play around with different number of outputs, kernel size and stride\n",
    "    # Function Definition from Above:\n",
    "    # conv2d_maxpool(x_tensor, conv_num_outputs, conv_ksize, conv_strides, pool_ksize, pool_strides)\n",
    "    conv1 = conv2d_maxpool(x, 32 , (2,2), (1,1), (1,1), (1,1))\n",
    "    conv2 = conv2d_maxpool(conv1, 64 , (2,2), (2,2), (2,2), (2,2))\n",
    "\n",
    "    # TODO: Apply a Flatten Layer\n",
    "    # Function Definition from Above:\n",
    "    flat_tensor = flatten(conv2)\n",
    "    \n",
    "\n",
    "    # TODO: Apply 1, 2, or 3 Fully Connected Layers\n",
    "    #    Play around with different number of outputs\n",
    "    # Function Definition from Above:\n",
    "    #   fully_conn(x_tensor, num_outputs)\n",
    "    fc1 = fully_conn(flat_tensor, 1024)\n",
    "    fc1 = tf.nn.dropout(fc1, keep_prob)\n",
    "    \n",
    "    \n",
    "    \n",
    "    # TODO: Apply an Output Layer\n",
    "    #    Set this to the number of classes\n",
    "    # Function Definition from Above:\n",
    "    out = output(fc1, 10)\n",
    "    \n",
    "    \n",
    "    \n",
    "    # TODO: return output\n",
    "    return out\n",
    "\n",
    "\n",
    "\"\"\"\n",
    "DON'T MODIFY ANYTHING IN THIS CELL THAT IS BELOW THIS LINE\n",
    "\"\"\"\n",
    "\n",
    "##############################\n",
    "## Build the Neural Network ##\n",
    "##############################\n",
    "\n",
    "# Remove previous weights, bias, inputs, etc..\n",
    "tf.reset_default_graph()\n",
    "\n",
    "# Inputs\n",
    "x = neural_net_image_input((32, 32, 3))\n",
    "y = neural_net_label_input(10)\n",
    "keep_prob = neural_net_keep_prob_input()\n",
    "\n",
    "# Model\n",
    "logits = conv_net(x, keep_prob)\n",
    "\n",
    "# Name logits Tensor, so that is can be loaded from disk after training\n",
    "logits = tf.identity(logits, name='logits')\n",
    "\n",
    "# Loss and Optimizer\n",
    "cost = tf.reduce_mean(tf.nn.softmax_cross_entropy_with_logits(logits=logits, labels=y))\n",
    "optimizer = tf.train.AdamOptimizer().minimize(cost)\n",
    "\n",
    "# Accuracy\n",
    "correct_pred = tf.equal(tf.argmax(logits, 1), tf.argmax(y, 1))\n",
    "accuracy = tf.reduce_mean(tf.cast(correct_pred, tf.float32), name='accuracy')\n",
    "\n",
    "tests.test_conv_net(conv_net)"
   ]
  },
  {
   "cell_type": "markdown",
   "metadata": {},
   "source": [
    "## Train the Neural Network\n",
    "### Single Optimization\n",
    "Implement the function `train_neural_network` to do a single optimization.  The optimization should use `optimizer` to optimize in `session` with a `feed_dict` of the following:\n",
    "* `x` for image input\n",
    "* `y` for labels\n",
    "* `keep_prob` for keep probability for dropout\n",
    "\n",
    "This function will be called for each batch, so `tf.global_variables_initializer()` has already been called.\n",
    "\n",
    "Note: Nothing needs to be returned. This function is only optimizing the neural network."
   ]
  },
  {
   "cell_type": "code",
   "execution_count": 27,
   "metadata": {},
   "outputs": [
    {
     "name": "stdout",
     "output_type": "stream",
     "text": [
      "Tests Passed\n"
     ]
    }
   ],
   "source": [
    "def train_neural_network(session, optimizer, keep_probability, feature_batch, label_batch):\n",
    "    \"\"\"\n",
    "    Optimize the session on a batch of images and labels\n",
    "    : session: Current TensorFlow session\n",
    "    : optimizer: TensorFlow optimizer function\n",
    "    : keep_probability: keep probability\n",
    "    : feature_batch: Batch of Numpy image data\n",
    "    : label_batch: Batch of Numpy label data\n",
    "    \"\"\"\n",
    "    # TODO: Implement Function\n",
    "    session.run(optimizer, feed_dict={x: feature_batch, y:label_batch, keep_prob: keep_probability})\n",
    "    \n",
    "\n",
    "\n",
    "\"\"\"\n",
    "DON'T MODIFY ANYTHING IN THIS CELL THAT IS BELOW THIS LINE\n",
    "\"\"\"\n",
    "tests.test_train_nn(train_neural_network)"
   ]
  },
  {
   "cell_type": "markdown",
   "metadata": {},
   "source": [
    "### Show Stats\n",
    "Implement the function `print_stats` to print loss and validation accuracy.  Use the global variables `valid_features` and `valid_labels` to calculate validation accuracy.  Use a keep probability of `1.0` to calculate the loss and validation accuracy."
   ]
  },
  {
   "cell_type": "code",
   "execution_count": 29,
   "metadata": {},
   "outputs": [],
   "source": [
    "def print_stats(session, feature_batch, label_batch, cost, accuracy):\n",
    "    \"\"\"\n",
    "    Print information about loss and validation accuracy\n",
    "    : session: Current TensorFlow session\n",
    "    : feature_batch: Batch of Numpy image data\n",
    "    : label_batch: Batch of Numpy label data\n",
    "    : cost: TensorFlow cost function\n",
    "    : accuracy: TensorFlow accuracy function\n",
    "    \"\"\"\n",
    "    # TODO: Implement Function\n",
    "    loss = session.run(cost, feed_dict= {x:feature_batch, y: label_batch, keep_prob:1})\n",
    "    valid_acc = session.run(accuracy, feed_dict= {x: valid_features, y:valid_labels, keep_prob :1})\n",
    "    print('Loss: {:>10.4f} Validation Accuracy: {:.6f}'.format(\n",
    "                loss,\n",
    "                valid_acc))\n",
    "    "
   ]
  },
  {
   "cell_type": "markdown",
   "metadata": {},
   "source": [
    "### Hyperparameters\n",
    "Tune the following parameters:\n",
    "* Set `epochs` to the number of iterations until the network stops learning or start overfitting\n",
    "* Set `batch_size` to the highest number that your machine has memory for.  Most people set them to common sizes of memory:\n",
    " * 64\n",
    " * 128\n",
    " * 256\n",
    " * ...\n",
    "* Set `keep_probability` to the probability of keeping a node using dropout"
   ]
  },
  {
   "cell_type": "code",
   "execution_count": 30,
   "metadata": {
    "collapsed": true
   },
   "outputs": [],
   "source": [
    "# TODO: Tune Parameters\n",
    "epochs = 40\n",
    "batch_size = 4000\n",
    "keep_probability = 0.5"
   ]
  },
  {
   "cell_type": "markdown",
   "metadata": {},
   "source": [
    "### Train on a Single CIFAR-10 Batch\n",
    "Instead of training the neural network on all the CIFAR-10 batches of data, let's use a single batch. This should save time while you iterate on the model to get a better accuracy.  Once the final validation accuracy is 50% or greater, run the model on all the data in the next section."
   ]
  },
  {
   "cell_type": "code",
   "execution_count": 31,
   "metadata": {},
   "outputs": [
    {
     "name": "stdout",
     "output_type": "stream",
     "text": [
      "Checking the Training on a Single Batch...\n",
      "Epoch  1, CIFAR-10 Batch 1:  Loss:     2.4839 Validation Accuracy: 0.183800\n",
      "Epoch  2, CIFAR-10 Batch 1:  Loss:     2.2172 Validation Accuracy: 0.145800\n",
      "Epoch  3, CIFAR-10 Batch 1:  Loss:     2.1088 Validation Accuracy: 0.204600\n",
      "Epoch  4, CIFAR-10 Batch 1:  Loss:     2.0283 Validation Accuracy: 0.285600\n",
      "Epoch  5, CIFAR-10 Batch 1:  Loss:     1.9419 Validation Accuracy: 0.321200\n",
      "Epoch  6, CIFAR-10 Batch 1:  Loss:     1.8694 Validation Accuracy: 0.343000\n",
      "Epoch  7, CIFAR-10 Batch 1:  Loss:     1.7903 Validation Accuracy: 0.374800\n",
      "Epoch  8, CIFAR-10 Batch 1:  Loss:     1.7069 Validation Accuracy: 0.397200\n",
      "Epoch  9, CIFAR-10 Batch 1:  Loss:     1.6305 Validation Accuracy: 0.415000\n",
      "Epoch 10, CIFAR-10 Batch 1:  Loss:     1.5515 Validation Accuracy: 0.425200\n",
      "Epoch 11, CIFAR-10 Batch 1:  Loss:     1.4783 Validation Accuracy: 0.443600\n",
      "Epoch 12, CIFAR-10 Batch 1:  Loss:     1.4069 Validation Accuracy: 0.460400\n",
      "Epoch 13, CIFAR-10 Batch 1:  Loss:     1.3477 Validation Accuracy: 0.465600\n",
      "Epoch 14, CIFAR-10 Batch 1:  Loss:     1.2929 Validation Accuracy: 0.480000\n",
      "Epoch 15, CIFAR-10 Batch 1:  Loss:     1.2397 Validation Accuracy: 0.489000\n",
      "Epoch 16, CIFAR-10 Batch 1:  Loss:     1.1871 Validation Accuracy: 0.496400\n",
      "Epoch 17, CIFAR-10 Batch 1:  Loss:     1.1371 Validation Accuracy: 0.504600\n",
      "Epoch 18, CIFAR-10 Batch 1:  Loss:     1.0854 Validation Accuracy: 0.514000\n",
      "Epoch 19, CIFAR-10 Batch 1:  Loss:     1.0373 Validation Accuracy: 0.517400\n",
      "Epoch 20, CIFAR-10 Batch 1:  Loss:     0.9942 Validation Accuracy: 0.524000\n",
      "Epoch 21, CIFAR-10 Batch 1:  Loss:     0.9467 Validation Accuracy: 0.535200\n",
      "Epoch 22, CIFAR-10 Batch 1:  Loss:     0.8998 Validation Accuracy: 0.536600\n",
      "Epoch 23, CIFAR-10 Batch 1:  Loss:     0.8576 Validation Accuracy: 0.545800\n",
      "Epoch 24, CIFAR-10 Batch 1:  Loss:     0.8177 Validation Accuracy: 0.549000\n",
      "Epoch 25, CIFAR-10 Batch 1:  Loss:     0.7822 Validation Accuracy: 0.549600\n",
      "Epoch 26, CIFAR-10 Batch 1:  Loss:     0.7400 Validation Accuracy: 0.552600\n",
      "Epoch 27, CIFAR-10 Batch 1:  Loss:     0.7070 Validation Accuracy: 0.553400\n",
      "Epoch 28, CIFAR-10 Batch 1:  Loss:     0.6746 Validation Accuracy: 0.559400\n",
      "Epoch 29, CIFAR-10 Batch 1:  Loss:     0.6467 Validation Accuracy: 0.559400\n",
      "Epoch 30, CIFAR-10 Batch 1:  Loss:     0.6087 Validation Accuracy: 0.567800\n",
      "Epoch 31, CIFAR-10 Batch 1:  Loss:     0.5759 Validation Accuracy: 0.566600\n",
      "Epoch 32, CIFAR-10 Batch 1:  Loss:     0.5443 Validation Accuracy: 0.569600\n",
      "Epoch 33, CIFAR-10 Batch 1:  Loss:     0.5134 Validation Accuracy: 0.577200\n",
      "Epoch 34, CIFAR-10 Batch 1:  Loss:     0.4856 Validation Accuracy: 0.575400\n",
      "Epoch 35, CIFAR-10 Batch 1:  Loss:     0.4599 Validation Accuracy: 0.579000\n",
      "Epoch 36, CIFAR-10 Batch 1:  Loss:     0.4342 Validation Accuracy: 0.580200\n",
      "Epoch 37, CIFAR-10 Batch 1:  Loss:     0.4112 Validation Accuracy: 0.585200\n",
      "Epoch 38, CIFAR-10 Batch 1:  Loss:     0.3867 Validation Accuracy: 0.582400\n",
      "Epoch 39, CIFAR-10 Batch 1:  Loss:     0.3671 Validation Accuracy: 0.582400\n",
      "Epoch 40, CIFAR-10 Batch 1:  Loss:     0.3428 Validation Accuracy: 0.587200\n"
     ]
    }
   ],
   "source": [
    "\"\"\"\n",
    "DON'T MODIFY ANYTHING IN THIS CELL\n",
    "\"\"\"\n",
    "print('Checking the Training on a Single Batch...')\n",
    "with tf.Session() as sess:\n",
    "    # Initializing the variables\n",
    "    sess.run(tf.global_variables_initializer())\n",
    "    \n",
    "    # Training cycle\n",
    "    for epoch in range(epochs):\n",
    "        batch_i = 1\n",
    "        for batch_features, batch_labels in helper.load_preprocess_training_batch(batch_i, batch_size):\n",
    "            train_neural_network(sess, optimizer, keep_probability, batch_features, batch_labels)\n",
    "        print('Epoch {:>2}, CIFAR-10 Batch {}:  '.format(epoch + 1, batch_i), end='')\n",
    "        print_stats(sess, batch_features, batch_labels, cost, accuracy)"
   ]
  },
  {
   "cell_type": "markdown",
   "metadata": {},
   "source": [
    "### Fully Train the Model\n",
    "Now that you got a good accuracy with a single CIFAR-10 batch, try it with all five batches."
   ]
  },
  {
   "cell_type": "code",
   "execution_count": 23,
   "metadata": {},
   "outputs": [
    {
     "name": "stdout",
     "output_type": "stream",
     "text": [
      "Training...\n",
      "Epoch  1, CIFAR-10 Batch 1:  Loss:     2.7313 Validation Accuracy: 0.133800\n",
      "Epoch  1, CIFAR-10 Batch 2:  Loss:     2.2540 Validation Accuracy: 0.162000\n",
      "Epoch  1, CIFAR-10 Batch 3:  Loss:     2.2211 Validation Accuracy: 0.148800\n",
      "Epoch  1, CIFAR-10 Batch 4:  Loss:     2.1930 Validation Accuracy: 0.188200\n",
      "Epoch  1, CIFAR-10 Batch 5:  Loss:     2.1475 Validation Accuracy: 0.259000\n",
      "Epoch  2, CIFAR-10 Batch 1:  Loss:     2.0797 Validation Accuracy: 0.262800\n",
      "Epoch  2, CIFAR-10 Batch 2:  Loss:     1.9857 Validation Accuracy: 0.308200\n",
      "Epoch  2, CIFAR-10 Batch 3:  Loss:     1.9074 Validation Accuracy: 0.335000\n",
      "Epoch  2, CIFAR-10 Batch 4:  Loss:     1.8501 Validation Accuracy: 0.337600\n",
      "Epoch  2, CIFAR-10 Batch 5:  Loss:     1.8315 Validation Accuracy: 0.358200\n",
      "Epoch  3, CIFAR-10 Batch 1:  Loss:     1.7778 Validation Accuracy: 0.386000\n",
      "Epoch  3, CIFAR-10 Batch 2:  Loss:     1.7145 Validation Accuracy: 0.402200\n",
      "Epoch  3, CIFAR-10 Batch 3:  Loss:     1.6456 Validation Accuracy: 0.412600\n",
      "Epoch  3, CIFAR-10 Batch 4:  Loss:     1.6170 Validation Accuracy: 0.421000\n",
      "Epoch  3, CIFAR-10 Batch 5:  Loss:     1.5985 Validation Accuracy: 0.438800\n",
      "Epoch  4, CIFAR-10 Batch 1:  Loss:     1.5496 Validation Accuracy: 0.440600\n",
      "Epoch  4, CIFAR-10 Batch 2:  Loss:     1.4846 Validation Accuracy: 0.462800\n",
      "Epoch  4, CIFAR-10 Batch 3:  Loss:     1.4362 Validation Accuracy: 0.471000\n",
      "Epoch  4, CIFAR-10 Batch 4:  Loss:     1.4337 Validation Accuracy: 0.477000\n",
      "Epoch  4, CIFAR-10 Batch 5:  Loss:     1.4263 Validation Accuracy: 0.497000\n",
      "Epoch  5, CIFAR-10 Batch 1:  Loss:     1.3711 Validation Accuracy: 0.496400\n",
      "Epoch  5, CIFAR-10 Batch 2:  Loss:     1.3518 Validation Accuracy: 0.498200\n",
      "Epoch  5, CIFAR-10 Batch 3:  Loss:     1.3359 Validation Accuracy: 0.503600\n",
      "Epoch  5, CIFAR-10 Batch 4:  Loss:     1.3153 Validation Accuracy: 0.504600\n",
      "Epoch  5, CIFAR-10 Batch 5:  Loss:     1.3166 Validation Accuracy: 0.526200\n",
      "Epoch  6, CIFAR-10 Batch 1:  Loss:     1.2679 Validation Accuracy: 0.518000\n",
      "Epoch  6, CIFAR-10 Batch 2:  Loss:     1.2428 Validation Accuracy: 0.534600\n",
      "Epoch  6, CIFAR-10 Batch 3:  Loss:     1.2070 Validation Accuracy: 0.537400\n",
      "Epoch  6, CIFAR-10 Batch 4:  Loss:     1.2112 Validation Accuracy: 0.538200\n",
      "Epoch  6, CIFAR-10 Batch 5:  Loss:     1.2118 Validation Accuracy: 0.550800\n",
      "Epoch  7, CIFAR-10 Batch 1:  Loss:     1.1691 Validation Accuracy: 0.546400\n",
      "Epoch  7, CIFAR-10 Batch 2:  Loss:     1.1495 Validation Accuracy: 0.562600\n",
      "Epoch  7, CIFAR-10 Batch 3:  Loss:     1.1233 Validation Accuracy: 0.558200\n",
      "Epoch  7, CIFAR-10 Batch 4:  Loss:     1.1249 Validation Accuracy: 0.558600\n",
      "Epoch  7, CIFAR-10 Batch 5:  Loss:     1.1364 Validation Accuracy: 0.564400\n",
      "Epoch  8, CIFAR-10 Batch 1:  Loss:     1.0856 Validation Accuracy: 0.568600\n",
      "Epoch  8, CIFAR-10 Batch 2:  Loss:     1.0837 Validation Accuracy: 0.568000\n",
      "Epoch  8, CIFAR-10 Batch 3:  Loss:     1.0488 Validation Accuracy: 0.571200\n",
      "Epoch  8, CIFAR-10 Batch 4:  Loss:     1.0613 Validation Accuracy: 0.574200\n",
      "Epoch  8, CIFAR-10 Batch 5:  Loss:     1.0713 Validation Accuracy: 0.571200\n",
      "Epoch  9, CIFAR-10 Batch 1:  Loss:     1.0257 Validation Accuracy: 0.587200\n",
      "Epoch  9, CIFAR-10 Batch 2:  Loss:     1.0134 Validation Accuracy: 0.584800\n",
      "Epoch  9, CIFAR-10 Batch 3:  Loss:     0.9642 Validation Accuracy: 0.592000\n",
      "Epoch  9, CIFAR-10 Batch 4:  Loss:     0.9918 Validation Accuracy: 0.588200\n",
      "Epoch  9, CIFAR-10 Batch 5:  Loss:     0.9892 Validation Accuracy: 0.588000\n",
      "Epoch 10, CIFAR-10 Batch 1:  Loss:     0.9510 Validation Accuracy: 0.599000\n",
      "Epoch 10, CIFAR-10 Batch 2:  Loss:     0.9412 Validation Accuracy: 0.598400\n",
      "Epoch 10, CIFAR-10 Batch 3:  Loss:     0.8998 Validation Accuracy: 0.597600\n",
      "Epoch 10, CIFAR-10 Batch 4:  Loss:     0.9123 Validation Accuracy: 0.603200\n",
      "Epoch 10, CIFAR-10 Batch 5:  Loss:     0.9163 Validation Accuracy: 0.601000\n",
      "Epoch 11, CIFAR-10 Batch 1:  Loss:     0.8845 Validation Accuracy: 0.605000\n",
      "Epoch 11, CIFAR-10 Batch 2:  Loss:     0.8823 Validation Accuracy: 0.608000\n",
      "Epoch 11, CIFAR-10 Batch 3:  Loss:     0.8418 Validation Accuracy: 0.607200\n",
      "Epoch 11, CIFAR-10 Batch 4:  Loss:     0.8533 Validation Accuracy: 0.604400\n",
      "Epoch 11, CIFAR-10 Batch 5:  Loss:     0.8517 Validation Accuracy: 0.608800\n",
      "Epoch 12, CIFAR-10 Batch 1:  Loss:     0.8268 Validation Accuracy: 0.612800\n",
      "Epoch 12, CIFAR-10 Batch 2:  Loss:     0.8227 Validation Accuracy: 0.609400\n",
      "Epoch 12, CIFAR-10 Batch 3:  Loss:     0.7720 Validation Accuracy: 0.620200\n",
      "Epoch 12, CIFAR-10 Batch 4:  Loss:     0.7894 Validation Accuracy: 0.619000\n",
      "Epoch 12, CIFAR-10 Batch 5:  Loss:     0.7778 Validation Accuracy: 0.620600\n",
      "Epoch 13, CIFAR-10 Batch 1:  Loss:     0.7683 Validation Accuracy: 0.621000\n",
      "Epoch 13, CIFAR-10 Batch 2:  Loss:     0.7545 Validation Accuracy: 0.623800\n",
      "Epoch 13, CIFAR-10 Batch 3:  Loss:     0.7087 Validation Accuracy: 0.632000\n",
      "Epoch 13, CIFAR-10 Batch 4:  Loss:     0.7270 Validation Accuracy: 0.630400\n",
      "Epoch 13, CIFAR-10 Batch 5:  Loss:     0.7210 Validation Accuracy: 0.625000\n",
      "Epoch 14, CIFAR-10 Batch 1:  Loss:     0.7133 Validation Accuracy: 0.623600\n",
      "Epoch 14, CIFAR-10 Batch 2:  Loss:     0.6979 Validation Accuracy: 0.638800\n",
      "Epoch 14, CIFAR-10 Batch 3:  Loss:     0.6543 Validation Accuracy: 0.636800\n",
      "Epoch 14, CIFAR-10 Batch 4:  Loss:     0.6693 Validation Accuracy: 0.638400\n",
      "Epoch 14, CIFAR-10 Batch 5:  Loss:     0.6750 Validation Accuracy: 0.630800\n",
      "Epoch 15, CIFAR-10 Batch 1:  Loss:     0.6674 Validation Accuracy: 0.632200\n",
      "Epoch 15, CIFAR-10 Batch 2:  Loss:     0.6458 Validation Accuracy: 0.642600\n",
      "Epoch 15, CIFAR-10 Batch 3:  Loss:     0.5972 Validation Accuracy: 0.642800\n",
      "Epoch 15, CIFAR-10 Batch 4:  Loss:     0.6087 Validation Accuracy: 0.645200\n",
      "Epoch 15, CIFAR-10 Batch 5:  Loss:     0.6058 Validation Accuracy: 0.639200\n",
      "Epoch 16, CIFAR-10 Batch 1:  Loss:     0.5984 Validation Accuracy: 0.636000\n",
      "Epoch 16, CIFAR-10 Batch 2:  Loss:     0.5938 Validation Accuracy: 0.644600\n",
      "Epoch 16, CIFAR-10 Batch 3:  Loss:     0.5478 Validation Accuracy: 0.648800\n",
      "Epoch 16, CIFAR-10 Batch 4:  Loss:     0.5683 Validation Accuracy: 0.644400\n",
      "Epoch 16, CIFAR-10 Batch 5:  Loss:     0.5417 Validation Accuracy: 0.652200\n",
      "Epoch 17, CIFAR-10 Batch 1:  Loss:     0.5419 Validation Accuracy: 0.650400\n",
      "Epoch 17, CIFAR-10 Batch 2:  Loss:     0.5370 Validation Accuracy: 0.647400\n",
      "Epoch 17, CIFAR-10 Batch 3:  Loss:     0.5140 Validation Accuracy: 0.651400\n",
      "Epoch 17, CIFAR-10 Batch 4:  Loss:     0.5052 Validation Accuracy: 0.654200\n",
      "Epoch 17, CIFAR-10 Batch 5:  Loss:     0.4881 Validation Accuracy: 0.659800\n",
      "Epoch 18, CIFAR-10 Batch 1:  Loss:     0.4876 Validation Accuracy: 0.653400\n",
      "Epoch 18, CIFAR-10 Batch 2:  Loss:     0.4831 Validation Accuracy: 0.654400\n",
      "Epoch 18, CIFAR-10 Batch 3:  Loss:     0.4577 Validation Accuracy: 0.656800\n",
      "Epoch 18, CIFAR-10 Batch 4:  Loss:     0.4637 Validation Accuracy: 0.655200\n",
      "Epoch 18, CIFAR-10 Batch 5:  Loss:     0.4448 Validation Accuracy: 0.662000\n",
      "Epoch 19, CIFAR-10 Batch 1:  Loss:     0.4505 Validation Accuracy: 0.653000\n",
      "Epoch 19, CIFAR-10 Batch 2:  Loss:     0.4453 Validation Accuracy: 0.654800\n",
      "Epoch 19, CIFAR-10 Batch 3:  Loss:     0.4191 Validation Accuracy: 0.660600\n",
      "Epoch 19, CIFAR-10 Batch 4:  Loss:     0.4259 Validation Accuracy: 0.657600\n",
      "Epoch 19, CIFAR-10 Batch 5:  Loss:     0.4046 Validation Accuracy: 0.662200\n",
      "Epoch 20, CIFAR-10 Batch 1:  Loss:     0.4006 Validation Accuracy: 0.656200\n",
      "Epoch 20, CIFAR-10 Batch 2:  Loss:     0.3871 Validation Accuracy: 0.661600\n",
      "Epoch 20, CIFAR-10 Batch 3:  Loss:     0.3748 Validation Accuracy: 0.666800\n",
      "Epoch 20, CIFAR-10 Batch 4:  Loss:     0.3785 Validation Accuracy: 0.661800\n",
      "Epoch 20, CIFAR-10 Batch 5:  Loss:     0.3707 Validation Accuracy: 0.664000\n",
      "Epoch 21, CIFAR-10 Batch 1:  Loss:     0.3604 Validation Accuracy: 0.657200\n",
      "Epoch 21, CIFAR-10 Batch 2:  Loss:     0.3521 Validation Accuracy: 0.667600\n",
      "Epoch 21, CIFAR-10 Batch 3:  Loss:     0.3379 Validation Accuracy: 0.663200\n",
      "Epoch 21, CIFAR-10 Batch 4:  Loss:     0.3330 Validation Accuracy: 0.673600\n",
      "Epoch 21, CIFAR-10 Batch 5:  Loss:     0.3282 Validation Accuracy: 0.668800\n",
      "Epoch 22, CIFAR-10 Batch 1:  Loss:     0.3474 Validation Accuracy: 0.652200\n",
      "Epoch 22, CIFAR-10 Batch 2:  Loss:     0.3301 Validation Accuracy: 0.667800\n",
      "Epoch 22, CIFAR-10 Batch 3:  Loss:     0.3168 Validation Accuracy: 0.661200\n"
     ]
    },
    {
     "name": "stdout",
     "output_type": "stream",
     "text": [
      "Epoch 22, CIFAR-10 Batch 4:  Loss:     0.3088 Validation Accuracy: 0.676000\n",
      "Epoch 22, CIFAR-10 Batch 5:  Loss:     0.3037 Validation Accuracy: 0.669200\n",
      "Epoch 23, CIFAR-10 Batch 1:  Loss:     0.3054 Validation Accuracy: 0.659200\n",
      "Epoch 23, CIFAR-10 Batch 2:  Loss:     0.2943 Validation Accuracy: 0.666400\n",
      "Epoch 23, CIFAR-10 Batch 3:  Loss:     0.2927 Validation Accuracy: 0.657000\n",
      "Epoch 23, CIFAR-10 Batch 4:  Loss:     0.2847 Validation Accuracy: 0.668400\n",
      "Epoch 23, CIFAR-10 Batch 5:  Loss:     0.2706 Validation Accuracy: 0.678600\n",
      "Epoch 24, CIFAR-10 Batch 1:  Loss:     0.2668 Validation Accuracy: 0.669800\n",
      "Epoch 24, CIFAR-10 Batch 2:  Loss:     0.2689 Validation Accuracy: 0.678400\n",
      "Epoch 24, CIFAR-10 Batch 3:  Loss:     0.2560 Validation Accuracy: 0.671000\n",
      "Epoch 24, CIFAR-10 Batch 4:  Loss:     0.2542 Validation Accuracy: 0.667200\n",
      "Epoch 24, CIFAR-10 Batch 5:  Loss:     0.2512 Validation Accuracy: 0.677200\n",
      "Epoch 25, CIFAR-10 Batch 1:  Loss:     0.2447 Validation Accuracy: 0.670800\n",
      "Epoch 25, CIFAR-10 Batch 2:  Loss:     0.2342 Validation Accuracy: 0.677600\n",
      "Epoch 25, CIFAR-10 Batch 3:  Loss:     0.2142 Validation Accuracy: 0.678000\n",
      "Epoch 25, CIFAR-10 Batch 4:  Loss:     0.2087 Validation Accuracy: 0.678800\n",
      "Epoch 25, CIFAR-10 Batch 5:  Loss:     0.2069 Validation Accuracy: 0.681600\n",
      "Epoch 26, CIFAR-10 Batch 1:  Loss:     0.2126 Validation Accuracy: 0.669000\n",
      "Epoch 26, CIFAR-10 Batch 2:  Loss:     0.1999 Validation Accuracy: 0.682800\n",
      "Epoch 26, CIFAR-10 Batch 3:  Loss:     0.1921 Validation Accuracy: 0.676000\n",
      "Epoch 26, CIFAR-10 Batch 4:  Loss:     0.1971 Validation Accuracy: 0.673200\n",
      "Epoch 26, CIFAR-10 Batch 5:  Loss:     0.1867 Validation Accuracy: 0.678400\n",
      "Epoch 27, CIFAR-10 Batch 1:  Loss:     0.2023 Validation Accuracy: 0.671000\n",
      "Epoch 27, CIFAR-10 Batch 2:  Loss:     0.2142 Validation Accuracy: 0.671200\n",
      "Epoch 27, CIFAR-10 Batch 3:  Loss:     0.1722 Validation Accuracy: 0.678600\n",
      "Epoch 27, CIFAR-10 Batch 4:  Loss:     0.1836 Validation Accuracy: 0.678600\n",
      "Epoch 27, CIFAR-10 Batch 5:  Loss:     0.1738 Validation Accuracy: 0.678600\n",
      "Epoch 28, CIFAR-10 Batch 1:  Loss:     0.1993 Validation Accuracy: 0.671000\n",
      "Epoch 28, CIFAR-10 Batch 2:  Loss:     0.1842 Validation Accuracy: 0.669600\n",
      "Epoch 28, CIFAR-10 Batch 3:  Loss:     0.1727 Validation Accuracy: 0.666800\n",
      "Epoch 28, CIFAR-10 Batch 4:  Loss:     0.1686 Validation Accuracy: 0.668800\n",
      "Epoch 28, CIFAR-10 Batch 5:  Loss:     0.2049 Validation Accuracy: 0.659200\n",
      "Epoch 29, CIFAR-10 Batch 1:  Loss:     0.1860 Validation Accuracy: 0.672000\n",
      "Epoch 29, CIFAR-10 Batch 2:  Loss:     0.1998 Validation Accuracy: 0.674800\n",
      "Epoch 29, CIFAR-10 Batch 3:  Loss:     0.1666 Validation Accuracy: 0.666800\n",
      "Epoch 29, CIFAR-10 Batch 4:  Loss:     0.1632 Validation Accuracy: 0.667400\n",
      "Epoch 29, CIFAR-10 Batch 5:  Loss:     0.1562 Validation Accuracy: 0.680200\n",
      "Epoch 30, CIFAR-10 Batch 1:  Loss:     0.1514 Validation Accuracy: 0.692200\n",
      "Epoch 30, CIFAR-10 Batch 2:  Loss:     0.1469 Validation Accuracy: 0.685200\n",
      "Epoch 30, CIFAR-10 Batch 3:  Loss:     0.1318 Validation Accuracy: 0.684000\n",
      "Epoch 30, CIFAR-10 Batch 4:  Loss:     0.1290 Validation Accuracy: 0.685000\n",
      "Epoch 30, CIFAR-10 Batch 5:  Loss:     0.1305 Validation Accuracy: 0.680200\n",
      "Epoch 31, CIFAR-10 Batch 1:  Loss:     0.1328 Validation Accuracy: 0.690800\n",
      "Epoch 31, CIFAR-10 Batch 2:  Loss:     0.1310 Validation Accuracy: 0.685600\n",
      "Epoch 31, CIFAR-10 Batch 3:  Loss:     0.1093 Validation Accuracy: 0.693200\n",
      "Epoch 31, CIFAR-10 Batch 4:  Loss:     0.1034 Validation Accuracy: 0.694000\n",
      "Epoch 31, CIFAR-10 Batch 5:  Loss:     0.1074 Validation Accuracy: 0.691600\n",
      "Epoch 32, CIFAR-10 Batch 1:  Loss:     0.1111 Validation Accuracy: 0.693800\n",
      "Epoch 32, CIFAR-10 Batch 2:  Loss:     0.1001 Validation Accuracy: 0.694400\n",
      "Epoch 32, CIFAR-10 Batch 3:  Loss:     0.0966 Validation Accuracy: 0.690000\n",
      "Epoch 32, CIFAR-10 Batch 4:  Loss:     0.0920 Validation Accuracy: 0.693600\n",
      "Epoch 32, CIFAR-10 Batch 5:  Loss:     0.0972 Validation Accuracy: 0.685400\n",
      "Epoch 33, CIFAR-10 Batch 1:  Loss:     0.1038 Validation Accuracy: 0.691600\n",
      "Epoch 33, CIFAR-10 Batch 2:  Loss:     0.0937 Validation Accuracy: 0.694600\n",
      "Epoch 33, CIFAR-10 Batch 3:  Loss:     0.0833 Validation Accuracy: 0.695000\n",
      "Epoch 33, CIFAR-10 Batch 4:  Loss:     0.0823 Validation Accuracy: 0.694000\n",
      "Epoch 33, CIFAR-10 Batch 5:  Loss:     0.0840 Validation Accuracy: 0.692200\n",
      "Epoch 34, CIFAR-10 Batch 1:  Loss:     0.0973 Validation Accuracy: 0.681600\n",
      "Epoch 34, CIFAR-10 Batch 2:  Loss:     0.0865 Validation Accuracy: 0.688400\n",
      "Epoch 34, CIFAR-10 Batch 3:  Loss:     0.0926 Validation Accuracy: 0.677400\n",
      "Epoch 34, CIFAR-10 Batch 4:  Loss:     0.0861 Validation Accuracy: 0.689200\n",
      "Epoch 34, CIFAR-10 Batch 5:  Loss:     0.0974 Validation Accuracy: 0.673600\n",
      "Epoch 35, CIFAR-10 Batch 1:  Loss:     0.1077 Validation Accuracy: 0.682600\n",
      "Epoch 35, CIFAR-10 Batch 2:  Loss:     0.0927 Validation Accuracy: 0.683800\n",
      "Epoch 35, CIFAR-10 Batch 3:  Loss:     0.0809 Validation Accuracy: 0.687200\n",
      "Epoch 35, CIFAR-10 Batch 4:  Loss:     0.0748 Validation Accuracy: 0.689600\n",
      "Epoch 35, CIFAR-10 Batch 5:  Loss:     0.0659 Validation Accuracy: 0.697000\n",
      "Epoch 36, CIFAR-10 Batch 1:  Loss:     0.0745 Validation Accuracy: 0.689000\n",
      "Epoch 36, CIFAR-10 Batch 2:  Loss:     0.0658 Validation Accuracy: 0.695400\n",
      "Epoch 36, CIFAR-10 Batch 3:  Loss:     0.0737 Validation Accuracy: 0.686800\n",
      "Epoch 36, CIFAR-10 Batch 4:  Loss:     0.0689 Validation Accuracy: 0.689400\n",
      "Epoch 36, CIFAR-10 Batch 5:  Loss:     0.0706 Validation Accuracy: 0.686200\n",
      "Epoch 37, CIFAR-10 Batch 1:  Loss:     0.0694 Validation Accuracy: 0.697400\n",
      "Epoch 37, CIFAR-10 Batch 2:  Loss:     0.0701 Validation Accuracy: 0.690600\n",
      "Epoch 37, CIFAR-10 Batch 3:  Loss:     0.0607 Validation Accuracy: 0.692800\n",
      "Epoch 37, CIFAR-10 Batch 4:  Loss:     0.0562 Validation Accuracy: 0.696200\n",
      "Epoch 37, CIFAR-10 Batch 5:  Loss:     0.0574 Validation Accuracy: 0.701200\n",
      "Epoch 38, CIFAR-10 Batch 1:  Loss:     0.0716 Validation Accuracy: 0.673200\n",
      "Epoch 38, CIFAR-10 Batch 2:  Loss:     0.0714 Validation Accuracy: 0.686000\n",
      "Epoch 38, CIFAR-10 Batch 3:  Loss:     0.0777 Validation Accuracy: 0.668400\n",
      "Epoch 38, CIFAR-10 Batch 4:  Loss:     0.0736 Validation Accuracy: 0.684200\n",
      "Epoch 38, CIFAR-10 Batch 5:  Loss:     0.0807 Validation Accuracy: 0.674800\n",
      "Epoch 39, CIFAR-10 Batch 1:  Loss:     0.0798 Validation Accuracy: 0.687200\n",
      "Epoch 39, CIFAR-10 Batch 2:  Loss:     0.0827 Validation Accuracy: 0.677400\n",
      "Epoch 39, CIFAR-10 Batch 3:  Loss:     0.0643 Validation Accuracy: 0.696200\n",
      "Epoch 39, CIFAR-10 Batch 4:  Loss:     0.0739 Validation Accuracy: 0.661000\n",
      "Epoch 39, CIFAR-10 Batch 5:  Loss:     0.0796 Validation Accuracy: 0.673200\n",
      "Epoch 40, CIFAR-10 Batch 1:  Loss:     0.0684 Validation Accuracy: 0.680800\n",
      "Epoch 40, CIFAR-10 Batch 2:  Loss:     0.0617 Validation Accuracy: 0.699200\n",
      "Epoch 40, CIFAR-10 Batch 3:  Loss:     0.0647 Validation Accuracy: 0.681200\n",
      "Epoch 40, CIFAR-10 Batch 4:  Loss:     0.0757 Validation Accuracy: 0.673200\n",
      "Epoch 40, CIFAR-10 Batch 5:  Loss:     0.0801 Validation Accuracy: 0.668600\n"
     ]
    }
   ],
   "source": [
    "\"\"\"\n",
    "DON'T MODIFY ANYTHING IN THIS CELL\n",
    "\"\"\"\n",
    "save_model_path = './image_classification'\n",
    "\n",
    "print('Training...')\n",
    "with tf.Session() as sess:\n",
    "    # Initializing the variables\n",
    "    sess.run(tf.global_variables_initializer())\n",
    "    \n",
    "    # Training cycle\n",
    "    for epoch in range(epochs):\n",
    "        # Loop over all batches\n",
    "        n_batches = 5\n",
    "        for batch_i in range(1, n_batches + 1):\n",
    "            for batch_features, batch_labels in helper.load_preprocess_training_batch(batch_i, batch_size):\n",
    "                train_neural_network(sess, optimizer, keep_probability, batch_features, batch_labels)\n",
    "            print('Epoch {:>2}, CIFAR-10 Batch {}:  '.format(epoch + 1, batch_i), end='')\n",
    "            print_stats(sess, batch_features, batch_labels, cost, accuracy)\n",
    "            \n",
    "    # Save Model\n",
    "    saver = tf.train.Saver()\n",
    "    save_path = saver.save(sess, save_model_path)"
   ]
  },
  {
   "cell_type": "markdown",
   "metadata": {},
   "source": [
    "# Checkpoint\n",
    "The model has been saved to disk.\n",
    "## Test Model\n",
    "Test your model against the test dataset.  This will be your final accuracy. You should have an accuracy greater than 50%. If you don't, keep tweaking the model architecture and parameters."
   ]
  },
  {
   "cell_type": "code",
   "execution_count": 32,
   "metadata": {},
   "outputs": [
    {
     "name": "stdout",
     "output_type": "stream",
     "text": [
      "INFO:tensorflow:Restoring parameters from ./image_classification\n",
      "Testing Accuracy: 0.6598334113756815\n",
      "\n"
     ]
    },
    {
     "data": {
      "image/png": "[encoded data removed]",
      "text/plain": [
       "<matplotlib.figure.Figure at 0x7fdc0a70e978>"
      ]
     },
     "metadata": {
      "image/png": {
       "height": 319,
       "width": 355
      }
     },
     "output_type": "display_data"
    }
   ],
   "source": [
    "\"\"\"\n",
    "DON'T MODIFY ANYTHING IN THIS CELL\n",
    "\"\"\"\n",
    "%matplotlib inline\n",
    "%config InlineBackend.figure_format = 'retina'\n",
    "\n",
    "import tensorflow as tf\n",
    "import pickle\n",
    "import helper\n",
    "import random\n",
    "\n",
    "# Set batch size if not already set\n",
    "try:\n",
    "    if batch_size:\n",
    "        pass\n",
    "except NameError:\n",
    "    batch_size = 64\n",
    "\n",
    "save_model_path = './image_classification'\n",
    "n_samples = 4\n",
    "top_n_predictions = 3\n",
    "\n",
    "def test_model():\n",
    "    \"\"\"\n",
    "    Test the saved model against the test dataset\n",
    "    \"\"\"\n",
    "\n",
    "    test_features, test_labels = pickle.load(open('preprocess_training.p', mode='rb'))\n",
    "    loaded_graph = tf.Graph()\n",
    "\n",
    "    with tf.Session(graph=loaded_graph) as sess:\n",
    "        # Load model\n",
    "        loader = tf.train.import_meta_graph(save_model_path + '.meta')\n",
    "        loader.restore(sess, save_model_path)\n",
    "\n",
    "        # Get Tensors from loaded model\n",
    "        loaded_x = loaded_graph.get_tensor_by_name('x:0')\n",
    "        loaded_y = loaded_graph.get_tensor_by_name('y:0')\n",
    "        loaded_keep_prob = loaded_graph.get_tensor_by_name('keep_prob:0')\n",
    "        loaded_logits = loaded_graph.get_tensor_by_name('logits:0')\n",
    "        loaded_acc = loaded_graph.get_tensor_by_name('accuracy:0')\n",
    "        \n",
    "        # Get accuracy in batches for memory limitations\n",
    "        test_batch_acc_total = 0\n",
    "        test_batch_count = 0\n",
    "        \n",
    "        for train_feature_batch, train_label_batch in helper.batch_features_labels(test_features, test_labels, batch_size):\n",
    "            test_batch_acc_total += sess.run(\n",
    "                loaded_acc,\n",
    "                feed_dict={loaded_x: train_feature_batch, loaded_y: train_label_batch, loaded_keep_prob: 1.0})\n",
    "            test_batch_count += 1\n",
    "\n",
    "        print('Testing Accuracy: {}\\n'.format(test_batch_acc_total/test_batch_count))\n",
    "\n",
    "        # Print Random Samples\n",
    "        random_test_features, random_test_labels = tuple(zip(*random.sample(list(zip(test_features, test_labels)), n_samples)))\n",
    "        random_test_predictions = sess.run(\n",
    "            tf.nn.top_k(tf.nn.softmax(loaded_logits), top_n_predictions),\n",
    "            feed_dict={loaded_x: random_test_features, loaded_y: random_test_labels, loaded_keep_prob: 1.0})\n",
    "        helper.display_image_predictions(random_test_features, random_test_labels, random_test_predictions)\n",
    "\n",
    "\n",
    "test_model()"
   ]
  },
  {
   "cell_type": "markdown",
   "metadata": {},
   "source": [
    "## Why 50-70% Accuracy?\n",
    "You might be wondering why you can't get an accuracy any higher. First things first, 50% isn't bad for a simple CNN.  Pure guessing would get you 10% accuracy. However, you might notice people are getting scores [well above 70%](http://rodrigob.github.io/are_we_there_yet/build/classification_datasets_results.html#43494641522d3130).  That's because we haven't taught you all there is to know about neural networks. We still need to cover a few more techniques.\n",
    "## Submitting This Project\n",
    "When submitting this project, make sure to run all the cells before saving the notebook.  Save the notebook file as \"dlnd_image_classification.ipynb\" and save it as a HTML file under \"File\" -> \"Download as\".  Include the \"helper.py\" and \"problem_unittests.py\" files in your submission."
   ]
  }
 ],
 "metadata": {
  "kernelspec": {
   "display_name": "Python 3",
   "language": "python",
   "name": "python3"
  },
  "language_info": {
   "codemirror_mode": {
    "name": "ipython",
    "version": 3
   },
   "file_extension": ".py",
   "mimetype": "text/x-python",
   "name": "python",
   "nbconvert_exporter": "python",
   "pygments_lexer": "ipython3",
   "version": "3.5.3"
  }
 },
 "nbformat": 4,
 "nbformat_minor": 1
}
